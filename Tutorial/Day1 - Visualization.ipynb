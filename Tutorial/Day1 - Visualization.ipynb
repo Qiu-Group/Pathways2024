{
 "cells": [
  {
   "cell_type": "markdown",
   "id": "f810f931-f1aa-435e-9884-d7279eb0c6de",
   "metadata": {},
   "source": [
    "## Building and visualizing"
   ]
  },
  {
   "cell_type": "markdown",
   "id": "c5fe7ef8-b499-474b-be37-bf48a3b50ee6",
   "metadata": {},
   "source": [
    "Building a atomic structure is the first step in atomic simulation. Here, we show different examples for $C$ base atomic structures from a simple $C$ atom to more complex structures such as molecules, crystals, 1D and 2D materials."
   ]
  },
  {
   "cell_type": "markdown",
   "id": "f1f2a458-83ad-434a-979f-9d6818e96008",
   "metadata": {},
   "source": [
    "### Building a $C$ atom"
   ]
  },
  {
   "cell_type": "code",
   "execution_count": null,
   "id": "af43338c-9c1b-4805-8b91-faf00d31289d",
   "metadata": {},
   "outputs": [],
   "source": [
    "from ase.build import molecule\n",
    "from ase.visualize import view\n",
    "\n",
    "atoms = molecule('C')\n",
    "\n",
    "view(atoms)"
   ]
  },
  {
   "cell_type": "markdown",
   "id": "51e23b4f-6df0-4671-b0a8-88fa93ffd756",
   "metadata": {},
   "source": [
    "### Building a molecule: $CO_2$"
   ]
  },
  {
   "cell_type": "code",
   "execution_count": null,
   "id": "e40886a2-05b3-4f3d-a644-3e7ecd528f16",
   "metadata": {},
   "outputs": [],
   "source": [
    "from ase.build import molecule\n",
    "from ase.visualize import view\n",
    "\n",
    "atoms = molecule('CO2')\n",
    "\n",
    "view(atoms)"
   ]
  },
  {
   "cell_type": "markdown",
   "id": "809eff33-c303-42a9-a3bc-2e67c9d4d559",
   "metadata": {},
   "source": [
    "#### Measure the bond length"
   ]
  },
  {
   "cell_type": "code",
   "execution_count": null,
   "id": "ad800297-3542-4945-a1c7-7ee481a6bb4e",
   "metadata": {},
   "outputs": [],
   "source": [
    "from ase.geometry.analysis import Analysis\n",
    "import numpy as np\n",
    "\n",
    "ana = Analysis(atoms)\n",
    "Bonds = ana.get_bonds('C', 'O', unique=True)\n",
    "BondValues = ana.get_values(Bonds)\n",
    "print(\"The C-O bond length is {} Angstroms\".format(np.average(BondValues)) )"
   ]
  },
  {
   "cell_type": "markdown",
   "id": "8ac124c7-6967-4537-839e-050c24a93784",
   "metadata": {},
   "source": [
    "### Building a fullerene"
   ]
  },
  {
   "cell_type": "code",
   "execution_count": null,
   "id": "42e0d6f9-5f6a-4a46-9538-6c4ff385879c",
   "metadata": {},
   "outputs": [],
   "source": [
    "atoms = molecule('C60')\n",
    "view(atoms)"
   ]
  },
  {
   "cell_type": "markdown",
   "id": "4fd4a529-6858-4316-ba52-c9cd024022aa",
   "metadata": {},
   "source": [
    "#### Measure the bond length"
   ]
  },
  {
   "cell_type": "code",
   "execution_count": null,
   "id": "d343a328-9432-46bf-baad-55ae9e7f5430",
   "metadata": {},
   "outputs": [],
   "source": [
    "ana = Analysis(atoms)\n",
    "Bonds = ana.get_bonds('C', 'C', unique=True)\n",
    "BondValues = ana.get_values(Bonds)\n",
    "print(\"The C-C bond length is {} Angstroms\".format(np.average(BondValues)))"
   ]
  },
  {
   "cell_type": "markdown",
   "id": "47ba88d0-7846-4fb4-8109-32d76e2b06b3",
   "metadata": {},
   "source": [
    "### Building 3D material: Diamond"
   ]
  },
  {
   "cell_type": "code",
   "execution_count": null,
   "id": "7340e236-81b3-4820-aca1-74aea061c831",
   "metadata": {},
   "outputs": [],
   "source": [
    "from ase.build import bulk\n",
    "from ase.io import read, write\n",
    "\n",
    "atoms = read('cif/C_mp-66_conventional_standard.cif')\n",
    "view(atoms)"
   ]
  },
  {
   "cell_type": "markdown",
   "id": "7d628ea8-642d-4c24-adb1-430d032fe1e9",
   "metadata": {},
   "source": [
    "#### Measure the bond length"
   ]
  },
  {
   "cell_type": "code",
   "execution_count": null,
   "id": "d50caaf9-9879-43d3-b159-1d85d312a3c0",
   "metadata": {},
   "outputs": [],
   "source": [
    "ana = Analysis(atoms)\n",
    "Bonds = ana.get_bonds('C', 'C', unique=True)\n",
    "BondValues = ana.get_values(Bonds)\n",
    "print(\"The C-C bond length is {} Angstroms\".format(np.average(BondValues)))"
   ]
  },
  {
   "cell_type": "markdown",
   "id": "27f19909-e933-400b-8492-4447295ab908",
   "metadata": {},
   "source": [
    "### Building a 3D material: Graphite"
   ]
  },
  {
   "cell_type": "code",
   "execution_count": null,
   "id": "9e62ce90-4ab1-4d93-ac0a-575981893049",
   "metadata": {},
   "outputs": [],
   "source": [
    "from ase.build import bulk\n",
    "from ase.io import read, write\n",
    "\n",
    "atoms = read('cif/C_mp-48_conventional_standard.cif')\n",
    "view(atoms)"
   ]
  },
  {
   "cell_type": "markdown",
   "id": "c2e2cf5e-6366-4b41-8994-286682e29632",
   "metadata": {},
   "source": [
    "#### Measure the bond length"
   ]
  },
  {
   "cell_type": "code",
   "execution_count": null,
   "id": "b6c8183a-fd68-45de-a9e2-45ec08b2db00",
   "metadata": {},
   "outputs": [],
   "source": [
    "ana = Analysis(atoms)\n",
    "Bonds = ana.get_bonds('C', 'C', unique=True)\n",
    "BondValues = ana.get_values(Bonds)\n",
    "print(\"The C-C bond length is {} Angstroms\".format(np.average(BondValues)))"
   ]
  },
  {
   "cell_type": "markdown",
   "id": "a527e718-da73-4291-b917-6165b54639b8",
   "metadata": {},
   "source": [
    "### Building a 2D material: graphene"
   ]
  },
  {
   "cell_type": "code",
   "execution_count": null,
   "id": "d152400f-2477-4591-aaaf-2f96ba9013f9",
   "metadata": {},
   "outputs": [],
   "source": [
    "from ase.build import graphene\n",
    "\n",
    "graphene = graphene()\n",
    "view(graphene)"
   ]
  },
  {
   "cell_type": "markdown",
   "id": "ac810f50-4bc8-471b-bd8f-0547bc4da332",
   "metadata": {},
   "source": [
    "#### Measure the bond length"
   ]
  },
  {
   "cell_type": "code",
   "execution_count": null,
   "id": "68712178-9025-4f42-8901-cbb4ec1caa27",
   "metadata": {},
   "outputs": [],
   "source": [
    "ana = Analysis(graphene)\n",
    "Bonds = ana.get_bonds('C', 'C', unique=True)\n",
    "BondValues = ana.get_values(Bonds)\n",
    "print(\"The C-C bond length is {} Angstroms\".format(np.average(BondValues)))\n"
   ]
  },
  {
   "cell_type": "markdown",
   "id": "99e7381d-a631-4046-83cf-c408001931dc",
   "metadata": {},
   "source": [
    "### Building a 1D material: Carbon nanotubes"
   ]
  },
  {
   "cell_type": "code",
   "execution_count": null,
   "id": "d412423d-0a39-47d6-88fa-0f5594acf36d",
   "metadata": {},
   "outputs": [],
   "source": [
    "from ase.build import nanotube\n",
    "\n",
    "cnt1 = nanotube(6, 0, length=4)\n",
    "view(cnt1)"
   ]
  },
  {
   "cell_type": "markdown",
   "id": "a530b931-bbd3-4b64-9ec3-0c667bbd33a4",
   "metadata": {},
   "source": [
    "#### Measure the bond length"
   ]
  },
  {
   "cell_type": "code",
   "execution_count": null,
   "id": "98be9110-64f7-4342-a77a-11fd9a524e3a",
   "metadata": {},
   "outputs": [],
   "source": [
    "ana = Analysis(cnt1)\n",
    "Bonds = ana.get_bonds('C', 'C', unique=True)\n",
    "BondValues = ana.get_values(Bonds)\n",
    "print(\"The C-C bond length is {} Angstroms\".format(np.average(BondValues)))"
   ]
  },
  {
   "cell_type": "markdown",
   "id": "45e0d3ef-9fb8-40fd-b9b2-c7dfc0f32688",
   "metadata": {},
   "source": [
    "### Materials exploration: The Materials Project API"
   ]
  },
  {
   "cell_type": "markdown",
   "id": "7f2a6daf-b096-41e6-bb5d-2aa504760005",
   "metadata": {},
   "source": [
    "The modelling and simulation of materials requires the knowledge of how the atoms that constituate a material are arrange in space. This information is obtained by a combination of experimental and computational techniques. Through out the years, millions of materials has been characterised and the information can easily retrieve from open source databases.\n",
    "\n",
    "In this python script below the variable 'mpid' defines the name of the entry you wish to retrieve from the Materials Project database.\n",
    "\n",
    "https://next-gen.materialsproject.org/"
   ]
  },
  {
   "cell_type": "code",
   "execution_count": null,
   "id": "4030fdb4-4a03-4f52-b81e-8a7530a2d350",
   "metadata": {},
   "outputs": [],
   "source": [
    "from mp_api.client import MPRester\n",
    "from ase.visualize import view\n",
    "from ase.build import bulk\n",
    "from ase.io import read, write\n",
    "\n",
    "mpr = MPRester(\"9KlaVEF4LQapTOWA9aIPTXC73cZP0RUq\")\n",
    "\n",
    "mpid = \"mp-149\"\n",
    "\n",
    "structure = mpr.get_structure_by_material_id(mpid)\n",
    "structure.to(fmt=\"cif\", filename='cif/tmp.cif')\n",
    "\n",
    "atoms = read('cif/tmp.cif')\n",
    "view(atoms)"
   ]
  },
  {
   "cell_type": "code",
   "execution_count": null,
   "id": "a37c811f-8f84-4c4c-aef0-0e4d35c4f9c2",
   "metadata": {},
   "outputs": [],
   "source": []
  }
 ],
 "metadata": {
  "kernelspec": {
   "display_name": "Python 3 (ipykernel)",
   "language": "python",
   "name": "python3"
  },
  "language_info": {
   "codemirror_mode": {
    "name": "ipython",
    "version": 3
   },
   "file_extension": ".py",
   "mimetype": "text/x-python",
   "name": "python",
   "nbconvert_exporter": "python",
   "pygments_lexer": "ipython3",
   "version": "3.12.3"
  }
 },
 "nbformat": 4,
 "nbformat_minor": 5
}
