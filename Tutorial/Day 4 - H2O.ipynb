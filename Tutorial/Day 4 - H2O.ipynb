{
 "cells": [
  {
   "cell_type": "markdown",
   "id": "eebc23ae-b130-4717-b2ed-a827b342ead8",
   "metadata": {},
   "source": [
    "## Chemical reaction in a simulation box"
   ]
  },
  {
   "cell_type": "markdown",
   "id": "ca97a30b-11f6-4b13-8d5c-97ae5d0dc946",
   "metadata": {},
   "source": [
    "Computational techniques are used to study chemical reactions without stepping in an laboratory.\n",
    "Here we are going to study one of the simplest but most important reactions in clean energy science which is the combination of $O_2$ and $H_2$ to form $H_2O$:\n",
    "\n",
    "$2H_2 + O_2 \\rightarrow 2H_2O$\n",
    "\n",
    "the first step is to create a simulation box that contains the reagents of interest:"
   ]
  },
  {
   "cell_type": "code",
   "execution_count": null,
   "id": "112a4d92-65e9-4c4f-8c16-b34cfa04c3cd",
   "metadata": {},
   "outputs": [],
   "source": [
    "from ase.build import molecule\n",
    "from ase.visualize import view\n",
    "\n",
    "atoms1 = molecule('O2')\n",
    "atoms2 = molecule('H2')\n",
    "atoms2.translate([2, 0, 0])\n",
    "\n",
    "atoms3 = molecule('H2')\n",
    "atoms3.translate([-2, 0,0])\n",
    "\n",
    "atoms = atoms1 + atoms2 + atoms3\n",
    "atoms.center(5)\n",
    "\n",
    "atoms.set_pbc([1,1,1])\n",
    "\n",
    "view(atoms)"
   ]
  },
  {
   "cell_type": "markdown",
   "id": "1183d235-a0e3-4f6d-9132-4f098a0c5fed",
   "metadata": {},
   "source": [
    "The reaction will be simulated using a technique known as Molecular Dynamics (MD), which performs a real time simulation of the motion of atoms and molecules."
   ]
  },
  {
   "cell_type": "code",
   "execution_count": null,
   "id": "564f83ea-66e6-4be2-b3ef-6b50478da44a",
   "metadata": {},
   "outputs": [],
   "source": [
    "from ase.calculators.emt import EMT\n",
    "from ase.io.trajectory import Trajectory\n",
    "from ase.md import VelocityVerlet\n",
    "from ase import units\n",
    "from ase import Atoms\n",
    "import ase.io\n",
    "\n",
    "atoms.calc = EMT()\n",
    "\n",
    "dyn =  VelocityVerlet(atoms, 1 * units.fs)\n",
    "\n",
    "\n",
    "traj = Trajectory('traj/h2o.traj', 'w', atoms)\n",
    "dyn.attach(traj.write, interval=1)\n",
    "\n",
    "# Now run the dynamics\n",
    "dyn.run(100)\n",
    "\n",
    "frames = ase.io.read('traj/h2o.traj', index=':')\n",
    "view(frames)\n"
   ]
  },
  {
   "cell_type": "markdown",
   "id": "beac3711-ebb8-4c0e-bb06-cd5f295439b4",
   "metadata": {},
   "source": [
    "### Reaction energy"
   ]
  },
  {
   "cell_type": "markdown",
   "id": "b376c6c1-8a54-4cda-8353-e01aaedb42c5",
   "metadata": {},
   "source": [
    "Understanding if a chemical reaction is energetically favorable (releases energy) or is energetically unfavorable (requries energy) is one of the fundaments of chemistry  known as thermodynamics.\n",
    "\n",
    "Accurate calculations of reaction energies require computational techniques based on quantum mechanics known as 'ab initio' or first principles calculations.\n",
    "\n",
    "Here, we will used the most widely used first principle technique known as Density Functional Theory (DFT). Calculations using this approximation can be computationally demanding and we will submit this tasks as jobs at Yale Grace supercomputer in the box below:"
   ]
  },
  {
   "cell_type": "code",
   "execution_count": null,
   "id": "293ed8ee-458e-4664-9060-9b79f8c900a1",
   "metadata": {},
   "outputs": [],
   "source": [
    "!sbatch qe/O2.sh\n",
    "!sbatch qe/H2.sh\n",
    "!sbatch qe/H2O.sh"
   ]
  },
  {
   "cell_type": "markdown",
   "id": "14af2349-4986-48c7-bbf0-0b4946fb538e",
   "metadata": {},
   "source": [
    "You can check if the supercomputer has finished the tasks with the command below:"
   ]
  },
  {
   "cell_type": "code",
   "execution_count": null,
   "id": "ff9647b2-923c-4924-ade5-6d61ba622c21",
   "metadata": {},
   "outputs": [],
   "source": [
    "!squeue --me"
   ]
  },
  {
   "cell_type": "markdown",
   "id": "66bf2e50-692a-429c-81f3-7757f3955a5f",
   "metadata": {},
   "source": [
    "In the box below, we will extract the total energy of $H_2$, $O_2$ and $H_2O$ from the DFT calculation output and compute the reaction energy."
   ]
  },
  {
   "cell_type": "code",
   "execution_count": null,
   "id": "9da18589-caf7-4c1b-bf60-6de0277fc1a5",
   "metadata": {},
   "outputs": [],
   "source": [
    "from ase.calculators.espresso import Espresso\n",
    "from ase.io.espresso import write_espresso_in\n",
    "import ase\n",
    "from ase.io import read, write\n",
    "\n",
    "!sed -i 's/magn=//' qe/O2.out\n",
    "\n",
    "H2_opt= ase.io.read('qe/H2.out')\n",
    "H2_energy = H2_opt.get_total_energy()\n",
    "O2_opt= ase.io.read('qe/O2.out')\n",
    "O2_energy = O2_opt.get_total_energy()\n",
    "H2O_opt = ase.io.read('qe/H2O.out')\n",
    "H2O_energy = H2O_opt.get_total_energy()\n",
    "\n",
    "ev2kjmol = 96.48\n",
    "kj2kcal = 0.239\n",
    "h2_weight = 2.01568\n",
    "\n",
    "ev_reaction = H2O_energy - ( H2_energy + 0.5*O2_energy)\n",
    "kj_reaction = ev_reaction * ev2kjmol\n",
    "kcal_gram = kj_reaction*kj2kcal*(1/h2_weight)\n",
    "\n",
    "print('Energy %5.2f eV' % ev_reaction)\n",
    "print('Energy %5.2f kJ/mol' % kj_reaction)\n",
    "print('Energy %5.2f kcal/g' % kcal_gram)\n"
   ]
  },
  {
   "cell_type": "markdown",
   "id": "fc73cdfd-cf1b-40c7-ad00-10adfb79c556",
   "metadata": {},
   "source": [
    "## Water dimer: Classical model"
   ]
  },
  {
   "cell_type": "markdown",
   "id": "0fe0795f-351b-467c-a7b2-ee8c2f6ab69e",
   "metadata": {},
   "source": [
    "Geometry optimization is the study of the lowest energy structure that an atomic structure can achieved. It is key in the determination of any property since, in the absence of external perturbations, atoms arrange in the lowest energy (most estable) configuration posible. In the example belowe we will used a simple classical mechanics simulation to study the formation of a water dimer."
   ]
  },
  {
   "cell_type": "code",
   "execution_count": null,
   "id": "9dc79d5d-6bd0-42af-b80d-b98bf56b514b",
   "metadata": {},
   "outputs": [],
   "source": [
    "from ase.optimize import LBFGS\n",
    "from ase.calculators.emt import EMT\n",
    "\n",
    "opt = LBFGS(atoms)\n",
    "opt.run(fmax=1e-3)\n",
    "\n",
    "view(atoms)"
   ]
  },
  {
   "cell_type": "markdown",
   "id": "dd04e7f3-21a4-4379-9d3e-f2131da406e0",
   "metadata": {},
   "source": [
    "## Water dimer from quantum mechanics: First principles calculation\n",
    "\n",
    "Unfortunately, the classical simulation above is unable to reproduce the well-known interactions between water molecules that lead to its peculiar properties. In the boxes below we will used DFT simulations."
   ]
  },
  {
   "cell_type": "code",
   "execution_count": null,
   "id": "f37954d7-7b2f-489a-88cb-fd817150b463",
   "metadata": {},
   "outputs": [],
   "source": [
    "!sbatch qe/H2O_dimer.sh"
   ]
  },
  {
   "cell_type": "code",
   "execution_count": null,
   "id": "43031018-0752-4ebf-93c5-0da4cd2166a0",
   "metadata": {},
   "outputs": [],
   "source": [
    "!squeue --me"
   ]
  },
  {
   "cell_type": "code",
   "execution_count": null,
   "id": "461b6853-e6b9-4d1b-b9af-3fc94ef47aae",
   "metadata": {},
   "outputs": [],
   "source": [
    "from ase.calculators.espresso import Espresso\n",
    "from ase.io.espresso import write_espresso_in\n",
    "import ase\n",
    "from ase.io import read, write\n",
    "\n",
    "\n",
    "atoms_opt= ase.io.read('qe/H2O_dimer.out')\n",
    "\n",
    "\n",
    "write('cif/H2O_opt.cif', atoms_opt, format='cif')\n",
    "\n",
    "\n",
    "atoms_opt = read('cif/H2O_opt.cif')\n",
    "\n",
    "view(atoms_opt)"
   ]
  },
  {
   "cell_type": "markdown",
   "id": "4a8b2606-2728-457b-876b-5a8cd2b5e997",
   "metadata": {},
   "source": [
    "### Water molecule thermal dissociation\n",
    "\n",
    "The production of $H_2$ is a key in the production of clean energy. As we show at the beggining of the tutorial, $H_2$ combines with $O_2$ to form $H_2O$ and releases a large amount of energy without producing any harmful product. Unfortunately, $H_2$ is found in nature forming other molecules, being $H_2O$ the most aboundant. In the box below we will simulate the thermal decomposition of $H_{2}O$ into $H_{2}$ and $O_{2}$.\n",
    "\n",
    "Start the simulation at room Temperature (300K).\n",
    "\n",
    "Breaking the $H-O$ bonds is energetically very demanding. A way to provide the requried energy can be provided by increasing the temperature. The thermal dissociation of $H_{2}O$ is a partial reaction, that produces many subproducts, the conversion into $H_{2}$ and $O_{2}$ is estimated to be only 2.69% at 2500K.\n",
    "\n",
    "Try 2000K, 3000K and 4000K.\n",
    "\n",
    "*Sometimes the water molecules in a molecular dynamics simulation will randomly move away from each other. In this case, repeat the simulation."
   ]
  },
  {
   "cell_type": "code",
   "execution_count": null,
   "id": "377a18b4-830a-404f-b342-3420bd5c46d4",
   "metadata": {},
   "outputs": [],
   "source": [
    "from ase.md.velocitydistribution import MaxwellBoltzmannDistribution\n",
    "from ase.md import Langevin\n",
    "\n",
    "Temperature = 300 #Temperature in Kelvin\n",
    "\n",
    "atoms_opt = read('cif/H2O_opt.cif')\n",
    "atoms_opt.calc = EMT()\n",
    "\n",
    "MaxwellBoltzmannDistribution(atoms_opt, temperature_K=Temperature)\n",
    "dyn = Langevin(atoms_opt, 0.5 * units.fs, friction=0.1, temperature_K=Temperature)\n",
    "\n",
    "\n",
    "traj = Trajectory('traj/h2o'+str(Temperature)+'.traj', 'w', atoms_opt)\n",
    "dyn.attach(traj.write, interval=10)\n",
    "\n",
    "# Now run the dynamics\n",
    "dyn.run(3000)\n",
    "\n",
    "frames = ase.io.read('traj/h2o'+str(Temperature)+'.traj', index=':')\n",
    "view(frames)"
   ]
  },
  {
   "cell_type": "markdown",
   "id": "e11e52fe-cdb1-4d2b-ad91-a82443b06b1f",
   "metadata": {},
   "source": [
    "### Quantifying the dissociation energy\n",
    "\n",
    "The dissociation of a water moleculerequires the breaking of the O-H bonds. Here we will used a technique called Nudge Elastic band to quantify the energy barrier (which is linked to the kinetics of the reaction) to do so.\n",
    "\n",
    "The first step is to build a box with a single water molecule in it."
   ]
  },
  {
   "cell_type": "code",
   "execution_count": null,
   "id": "e9a82ef8-c02c-4ba4-b23d-5b3389136743",
   "metadata": {},
   "outputs": [],
   "source": [
    "from ase.build import molecule\n",
    "from ase.calculators.emt import EMT\n",
    "from ase.optimize import LBFGS\n",
    "from ase.io import read, write\n",
    "from ase.visualize import view\n",
    "\n",
    "atoms = molecule('H2O',vacuum=10)\n",
    "\n",
    "atoms.calc = EMT()\n",
    "\n",
    "# Initial state\n",
    "opt = LBFGS(atoms)\n",
    "opt.run(fmax=0.01)\n",
    "\n",
    "# Use EMT potential:\n",
    "atoms.calc = EMT()\n",
    "\n",
    "# Initial state\n",
    "opt = LBFGS(atoms)\n",
    "opt.run(fmax=0.01)\n",
    "write('traj/initial.traj', atoms)\n",
    "\n",
    "view(atoms)"
   ]
  },
  {
   "cell_type": "markdown",
   "id": "010e3bb9-2a9d-4894-b9dd-df433b926f68",
   "metadata": {},
   "source": [
    "Now, we want to define the final state in which oneof the $H$ in the $H_2O$ molecule dissociates. The $H$ atom is located a a distance far enough so that it does not interact with the $OH$ part. "
   ]
  },
  {
   "cell_type": "code",
   "execution_count": null,
   "id": "066ef3bf-b560-42d0-bcd8-67ecac62ee78",
   "metadata": {},
   "outputs": [],
   "source": [
    "# Final state:\n",
    "atoms[-1].position[0] = atoms[-1].position[0] + 3\n",
    "\n",
    "atoms.calc = EMT()\n",
    "\n",
    "# Initial state\n",
    "opt = LBFGS(atoms)\n",
    "opt.run(fmax=0.01)\n",
    "\n",
    "print('final state:', atoms.get_potential_energy())\n",
    "write('traj/final.traj', atoms)\n",
    "\n",
    "# and relax.\n",
    "view(atoms)"
   ]
  },
  {
   "cell_type": "markdown",
   "id": "2d144ea8-f25c-4cb6-ab15-9eb6ebe48260",
   "metadata": {},
   "source": [
    "Here we run the Nudged elastic band method."
   ]
  },
  {
   "cell_type": "code",
   "execution_count": null,
   "id": "809feff5-116f-4e22-baa5-9ffb7dd136c7",
   "metadata": {},
   "outputs": [],
   "source": [
    "from ase.calculators.emt import EMT\n",
    "from ase.constraints import FixAtoms\n",
    "from ase.io import read\n",
    "from ase.neb import NEB\n",
    "from ase.optimize import LBFGS\n",
    "import ase.io\n",
    "\n",
    "initial = read('traj/initial.traj')\n",
    "final = read('traj/final.traj')\n",
    "\n",
    "constraint = FixAtoms(mask=[atom.tag > 1 for atom in initial])\n",
    "\n",
    "images = [initial]\n",
    "for i in range(9):\n",
    "    image = initial.copy()\n",
    "    image.calc = EMT()\n",
    "    image.set_constraint(constraint)\n",
    "    images.append(image)\n",
    "\n",
    "\n",
    "images.append(final)\n",
    "\n",
    "neb = NEB(images)\n",
    "neb.interpolate(apply_constraint=True)\n",
    "qn = LBFGS(neb, trajectory='traj/neb.traj')\n",
    "qn.run(fmax=0.1)\n",
    "\n",
    "frames = ase.io.read('traj/neb.traj', index=':')\n",
    "view(frames)"
   ]
  },
  {
   "cell_type": "markdown",
   "id": "49736867-7d82-46dd-bcc9-8d382c4ab5a2",
   "metadata": {},
   "source": [
    "We can plot the results as a graph where the X axis represents the distance between the atoms and Y axis represents the energy."
   ]
  },
  {
   "cell_type": "code",
   "execution_count": null,
   "id": "b5cf4bb7-5be1-4f08-bfec-54da0216ddc5",
   "metadata": {},
   "outputs": [],
   "source": [
    "import matplotlib.pyplot as plt\n",
    "\n",
    "from ase.io import read\n",
    "from ase.neb import NEBTools\n",
    "\n",
    "images = read('traj/neb.traj@-9:')\n",
    "\n",
    "nebtools = NEBTools(images)\n",
    "\n",
    "# Get the calculated barrier and the energy change of the reaction.\n",
    "Ef, dE = nebtools.get_barrier()\n",
    "\n",
    "# Get the barrier without any interpolation between highest images.\n",
    "Ef, dE = nebtools.get_barrier(fit=False)\n",
    "\n",
    "# Get the actual maximum force at this point in the simulation.\n",
    "max_force = nebtools.get_fmax()\n",
    "\n",
    "# Create a figure like that coming from ASE-GUI.\n",
    "fig = nebtools.plot_band()\n",
    "fig.show()"
   ]
  },
  {
   "cell_type": "code",
   "execution_count": null,
   "id": "464e5e53-7871-4370-a16c-d85fe763190a",
   "metadata": {},
   "outputs": [],
   "source": []
  }
 ],
 "metadata": {
  "kernelspec": {
   "display_name": "Python 3 (ipykernel)",
   "language": "python",
   "name": "python3"
  },
  "language_info": {
   "codemirror_mode": {
    "name": "ipython",
    "version": 3
   },
   "file_extension": ".py",
   "mimetype": "text/x-python",
   "name": "python",
   "nbconvert_exporter": "python",
   "pygments_lexer": "ipython3",
   "version": "3.12.3"
  }
 },
 "nbformat": 4,
 "nbformat_minor": 5
}
