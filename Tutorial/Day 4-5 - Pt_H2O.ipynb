{
 "cells": [
  {
   "cell_type": "markdown",
   "id": "49916ee4-69dc-4bcf-b712-e1adb9a7b453",
   "metadata": {},
   "source": [
    "## Catalysis: Water absorption"
   ]
  },
  {
   "cell_type": "markdown",
   "id": "bd258924-a07a-4a05-9aa8-eaf23e7dc672",
   "metadata": {},
   "source": [
    "Catalysis is the increase of rate of a chemical reaction in the presence of an added subastance known as catalyst.\n",
    "\n",
    "Catalyst are not part of the reagents nor the products, which has the advantage that only small quantites are required to be effective. Here, we will study the decomposition of a $H_2O$ molecule in the presence of a catalytic surface known as $Pt(111)$."
   ]
  },
  {
   "cell_type": "markdown",
   "id": "0b658e86-9fe5-48f5-a169-d18a49eb9501",
   "metadata": {},
   "source": [
    "### Building your simulation structure: $H_{2}O$ molecule on a $Pt(111)$ catalytic surface "
   ]
  },
  {
   "cell_type": "markdown",
   "id": "0ad2d487-cd67-46ee-8562-253d2f6afe14",
   "metadata": {},
   "source": [
    "The first step is building a slab of $Pt$ atoms and we will add a $H_2O$ molecule on top of the slab."
   ]
  },
  {
   "cell_type": "code",
   "execution_count": null,
   "id": "c41f8de1-b8b4-46dc-a7d3-903599d945a8",
   "metadata": {},
   "outputs": [],
   "source": [
    "#Create the atomic structure\n",
    "\n",
    "from ase.build import fcc111, molecule, add_adsorbate\n",
    "from ase.constraints import FixAtoms\n",
    "from ase.visualize import view\n",
    "\n",
    "atoms = fcc111('Pt', (3, 3, 4), vacuum=7.5)\n",
    "\n",
    "add_adsorbate(atoms, molecule('H2O'), height=4.0,position=(6,4))\n",
    "\n",
    "atoms.set_constraint([FixAtoms(mask=[atom.tag > 2 for atom in atoms])])\n",
    "\n",
    "atoms.set_pbc([1,1,1])\n",
    "\n",
    "view(atoms)"
   ]
  },
  {
   "cell_type": "markdown",
   "id": "531a5281-c8bf-4ac0-bc67-6782adbee15b",
   "metadata": {},
   "source": [
    "### Molecular dynamics simulations"
   ]
  },
  {
   "cell_type": "markdown",
   "id": "1574e94e-3394-4798-bfbf-52c71c9e0d31",
   "metadata": {},
   "source": [
    "We can use molecular dynamics to simulate how the $H_2O$ molecule moves in a real-time simulation. Notice how easily the water molecule atoms separate in the presence of $Pt(111)$."
   ]
  },
  {
   "cell_type": "code",
   "execution_count": null,
   "id": "a9d15ac0-c275-4629-8f4d-885f9b7c4dd3",
   "metadata": {},
   "outputs": [],
   "source": [
    "#Perform a molecular dynamics simulation\n",
    "from ase.io.trajectory import Trajectory\n",
    "from ase.calculators.emt import EMT\n",
    "from ase.md.velocitydistribution import MaxwellBoltzmannDistribution\n",
    "from ase.md import Langevin\n",
    "from ase import units\n",
    "from ase import Atoms\n",
    "import ase.io\n",
    "\n",
    "atoms = fcc111('Pt', (3, 3, 4), vacuum=7.5)\n",
    "\n",
    "add_adsorbate(atoms, molecule('H2O'), height=4.0,position=(6,4))\n",
    "\n",
    "atoms.set_constraint([FixAtoms(mask=[atom.tag > 2 for atom in atoms])])\n",
    "\n",
    "atoms.set_pbc([1,1,1])\n",
    "\n",
    "Temperature = 500#Temperature of study in Kelvin\n",
    "\n",
    "atoms.calc = EMT()\n",
    "\n",
    "MaxwellBoltzmannDistribution(atoms, temperature_K=Temperature)\n",
    "\n",
    "dyn = Langevin(atoms, 1 * units.fs, friction=0.01, temperature_K=Temperature)\n",
    "\n",
    "traj = Trajectory('traj/pt.traj', 'w', atoms)\n",
    "dyn.attach(traj.write, interval=1)\n",
    "\n",
    "# Now run the dynamics\n",
    "dyn.run(500)\n",
    "\n",
    "frames = ase.io.read('traj/pt.traj', index=':')\n",
    "view(frames)"
   ]
  },
  {
   "cell_type": "markdown",
   "id": "874bd2f3-e920-4ff3-9d78-74e148398365",
   "metadata": {},
   "source": [
    "### Quantifying the dissociation energy\n",
    "\n",
    "Likewise, we want to study the energetics involved in the reaction. In the box below, we start by optimizing the position of the atoms to obtained the most stable atomic configuration."
   ]
  },
  {
   "cell_type": "code",
   "execution_count": null,
   "id": "7714f725-8395-4e51-a1b5-e4befa201e35",
   "metadata": {},
   "outputs": [],
   "source": [
    "from ase.build import add_adsorbate, fcc100\n",
    "from ase.calculators.emt import EMT\n",
    "from ase.constraints import FixAtoms\n",
    "from ase.optimize import LBFGS\n",
    "from ase.io import read, write\n",
    "\n",
    "# 2x2-Al(001) surface with 3 layers and an\n",
    "# Au atom adsorbed in a hollow site:\n",
    "atoms = fcc111('Pt', (3, 3, 4), vacuum=7.5)\n",
    "\n",
    "add_adsorbate(atoms, molecule('H2O'), height=2.0,position=(6,4))\n",
    "\n",
    "atoms.set_constraint([FixAtoms(mask=[atom.tag > 2 for atom in atoms])])\n",
    "\n",
    "atoms.set_pbc([1,1,1])\n",
    "\n",
    "\n",
    "# Use EMT potential:\n",
    "atoms.calc = EMT()\n",
    "\n",
    "# Initial state\n",
    "opt = LBFGS(atoms)\n",
    "opt.run(fmax=0.01)\n",
    "\n",
    "# Final state:\n",
    "atoms[-1].position[0] = atoms[-2].position[0] - 0.25 * atoms.cell[0, 0]\n",
    "atoms[-1].position[1] = atoms[-2].position[0] - 0.5 * atoms.cell[0, 0]\n",
    "\n",
    "\n",
    "# Use EMT potential:\n",
    "atoms.calc = EMT()\n",
    "\n",
    "# Initial state\n",
    "opt = LBFGS(atoms)\n",
    "opt.run(fmax=0.01)\n",
    "write('traj/initial.traj', atoms)\n",
    "\n",
    "view(atoms)"
   ]
  },
  {
   "cell_type": "markdown",
   "id": "16a28d1f-df44-46e8-bd9e-6b7e5c738366",
   "metadata": {},
   "source": [
    "Known what is the most stable configuration for the water molecule, we want to know what is the energy of a final state in which one of the hydrogen atoms has been separated from the oxygen atom. To do this, we manually change the position of one of the hydrogen atoms and relax the structure so that it ends in a energy minimum."
   ]
  },
  {
   "cell_type": "code",
   "execution_count": null,
   "id": "ef382793-4156-47c5-a107-a9b6d96298d0",
   "metadata": {},
   "outputs": [],
   "source": [
    "\n",
    "# Final state:\n",
    "atoms[-1].position[0] = atoms[-2].position[0] - 0.5 * atoms.cell[0, 0]\n",
    "atoms[-1].position[1] = atoms[-2].position[0] - 0.625 * atoms.cell[0, 0]\n",
    "\n",
    "\n",
    "opt.run(fmax=0.01)\n",
    "print('final state:', atoms.get_potential_energy())\n",
    "write('traj/final.traj', atoms)\n",
    "\n",
    "# and relax.\n",
    "view(atoms)"
   ]
  },
  {
   "cell_type": "markdown",
   "id": "0923347d-25da-4dd6-af78-626ff2326038",
   "metadata": {},
   "source": [
    "Lastly, we want to study the energy barrier that the hydrogen atom needs to overcome in order to reach the final state from its initial state. \n",
    "\n",
    "This is done through a technique know as nudge elastic band (NEB) method."
   ]
  },
  {
   "cell_type": "code",
   "execution_count": null,
   "id": "6197271f-a180-4e0c-aacc-4f7f8c3be662",
   "metadata": {},
   "outputs": [],
   "source": [
    "from ase.calculators.emt import EMT\n",
    "from ase.constraints import FixAtoms\n",
    "from ase.io import read\n",
    "from ase.neb import NEB\n",
    "from ase.optimize import LBFGS\n",
    "\n",
    "initial = read('traj/initial.traj')\n",
    "final = read('traj/final.traj')\n",
    "\n",
    "constraint = FixAtoms(mask=[atom.tag > 1 for atom in initial])\n",
    "\n",
    "images = [initial]\n",
    "for i in range(9):\n",
    "    image = initial.copy()\n",
    "    image.calc = EMT()\n",
    "    image.set_constraint(constraint)\n",
    "    images.append(image)\n",
    "\n",
    "\n",
    "images.append(final)\n",
    "\n",
    "neb = NEB(images)\n",
    "neb.interpolate(apply_constraint=True)\n",
    "qn = LBFGS(neb, trajectory='traj/neb.traj')\n",
    "qn.run(fmax=0.01)\n",
    "\n",
    "frames = ase.io.read('traj/neb.traj', index=':')\n",
    "view(frames)"
   ]
  },
  {
   "cell_type": "markdown",
   "id": "a1cace18-faee-4b83-a5f0-b15e6cd6118c",
   "metadata": {},
   "source": [
    "Once the method has completed, we can plot the results."
   ]
  },
  {
   "cell_type": "code",
   "execution_count": null,
   "id": "1ca230b1-2b86-4115-9798-04e70c4aae2e",
   "metadata": {},
   "outputs": [],
   "source": [
    "import matplotlib.pyplot as plt\n",
    "\n",
    "from ase.io import read\n",
    "from ase.neb import NEBTools\n",
    "\n",
    "images = read('traj/neb.traj@-9:')\n",
    "\n",
    "nebtools = NEBTools(images)\n",
    "\n",
    "# Get the calculated barrier and the energy change of the reaction.\n",
    "Ef, dE = nebtools.get_barrier()\n",
    "\n",
    "# Get the barrier without any interpolation between highest images.\n",
    "Ef, dE = nebtools.get_barrier(fit=False)\n",
    "\n",
    "# Get the actual maximum force at this point in the simulation.\n",
    "max_force = nebtools.get_fmax()\n",
    "\n",
    "# Create a figure like that coming from ASE-GUI.\n",
    "fig = nebtools.plot_band()\n",
    "fig.show()\n"
   ]
  },
  {
   "cell_type": "code",
   "execution_count": null,
   "id": "2f88e154-2021-4975-8a3d-b2fe23247f42",
   "metadata": {},
   "outputs": [],
   "source": []
  }
 ],
 "metadata": {
  "kernelspec": {
   "display_name": "Python 3 (ipykernel)",
   "language": "python",
   "name": "python3"
  },
  "language_info": {
   "codemirror_mode": {
    "name": "ipython",
    "version": 3
   },
   "file_extension": ".py",
   "mimetype": "text/x-python",
   "name": "python",
   "nbconvert_exporter": "python",
   "pygments_lexer": "ipython3",
   "version": "3.12.3"
  }
 },
 "nbformat": 4,
 "nbformat_minor": 5
}
